{
 "cells": [
  {
   "cell_type": "code",
   "execution_count": 1,
   "metadata": {
    "collapsed": false
   },
   "outputs": [
    {
     "ename": "ImportError",
     "evalue": "No module named 'src'",
     "output_type": "error",
     "traceback": [
      "\u001b[0;31m---------------------------------------------------------------------------\u001b[0m",
      "\u001b[0;31mImportError\u001b[0m                               Traceback (most recent call last)",
      "\u001b[0;32m<ipython-input-1-b8803a38af33>\u001b[0m in \u001b[0;36m<module>\u001b[0;34m()\u001b[0m\n\u001b[1;32m      2\u001b[0m \u001b[0;32mimport\u001b[0m \u001b[0mnumpy\u001b[0m \u001b[0;32mas\u001b[0m \u001b[0mnp\u001b[0m\u001b[0;34m\u001b[0m\u001b[0m\n\u001b[1;32m      3\u001b[0m \u001b[0;32mimport\u001b[0m \u001b[0mmatplotlib\u001b[0m\u001b[0;34m.\u001b[0m\u001b[0mpyplot\u001b[0m \u001b[0;32mas\u001b[0m \u001b[0mplt\u001b[0m\u001b[0;34m\u001b[0m\u001b[0m\n\u001b[0;32m----> 4\u001b[0;31m \u001b[0;32mfrom\u001b[0m \u001b[0mformat_overall_to_tableau\u001b[0m \u001b[0;32mimport\u001b[0m \u001b[0mread_mongo_overall\u001b[0m\u001b[0;34m\u001b[0m\u001b[0m\n\u001b[0m",
      "\u001b[0;32m/home/ayoung/Documents/uni/foundations/group/analysis/format_overall_to_tableau.py\u001b[0m in \u001b[0;36m<module>\u001b[0;34m()\u001b[0m\n\u001b[1;32m      1\u001b[0m \u001b[0;32mimport\u001b[0m \u001b[0mpandas\u001b[0m \u001b[0;32mas\u001b[0m \u001b[0mpd\u001b[0m\u001b[0;34m\u001b[0m\u001b[0m\n\u001b[0;32m----> 2\u001b[0;31m \u001b[0;32mfrom\u001b[0m \u001b[0msrc\u001b[0m\u001b[0;34m.\u001b[0m\u001b[0mdb\u001b[0m\u001b[0;34m.\u001b[0m\u001b[0mconnection\u001b[0m \u001b[0;32mimport\u001b[0m \u001b[0mDbConnection\u001b[0m\u001b[0;34m\u001b[0m\u001b[0m\n\u001b[0m\u001b[1;32m      3\u001b[0m \u001b[0;32mimport\u001b[0m \u001b[0mcsv\u001b[0m\u001b[0;34m\u001b[0m\u001b[0m\n\u001b[1;32m      4\u001b[0m \u001b[0;32mimport\u001b[0m \u001b[0mos\u001b[0m\u001b[0;34m\u001b[0m\u001b[0m\n\u001b[1;32m      5\u001b[0m \u001b[0;34m\u001b[0m\u001b[0m\n",
      "\u001b[0;31mImportError\u001b[0m: No module named 'src'"
     ]
    }
   ],
   "source": [
    "import pandas as pd\n",
    "import numpy as np\n",
    "import matplotlib.pyplot as plt\n",
    "from format_overall_to_tableau import read_mongo_overall"
   ]
  },
  {
   "cell_type": "code",
   "execution_count": 2,
   "metadata": {
    "collapsed": false
   },
   "outputs": [],
   "source": [
    "cursor = read_mongo_overall()"
   ]
  },
  {
   "cell_type": "code",
   "execution_count": 3,
   "metadata": {
    "collapsed": false
   },
   "outputs": [],
   "source": [
    "\n",
    "all_data = [c for c in read_mongo_overall()]"
   ]
  },
  {
   "cell_type": "code",
   "execution_count": 4,
   "metadata": {
    "collapsed": false
   },
   "outputs": [
    {
     "name": "stdout",
     "output_type": "stream",
     "text": [
      "50000\n",
      "100000\n",
      "150000\n",
      "200000\n",
      "250000\n",
      "300000\n",
      "350000\n",
      "400000\n",
      "450000\n",
      "500000\n"
     ]
    }
   ],
   "source": [
    "all_records = []\n",
    "i=0\n",
    "for r in all_data:\n",
    "    analyse_dict = {}\n",
    "    if \"hygiene\" in r:\n",
    "        analyse_dict[\"FHRSID\"] = r[\"FHRSID\"]\n",
    "        if \"google\" in r:\n",
    "            analyse_dict[\"google_rating\"] = r[\"google\"][\"rating\"]\n",
    "            if \"types\" in r[\"google\"]:\n",
    "                analyse_dict[\"types\"] = r[\"google\"][\"types\"]\n",
    "        if \"yelp\" in r:\n",
    "            analyse_dict[\"yelp_rating\"] = r[\"yelp\"][\"rating\"]\n",
    "            analyse_dict[\"yelp_pricing\"] = r[\"yelp\"][\"rating\"]\n",
    "            analyse_dict[\"yelp_categories\"] = r[\"yelp\"][\"categories\"]\n",
    "        analyse_dict[\"hygiene_rating\"] = r[\"hygiene\"][\"RatingValue\"]\n",
    "        if \"Scores\" in  r[\"hygiene\"] and r[\"hygiene\"][\"Scores\"] is not None:\n",
    "            if \"ConfidenceInManagement\" in r[\"hygiene\"][\"Scores\"]:\n",
    "                analyse_dict[\"hygiene_scores_management\"] = r[\"hygiene\"][\"Scores\"][\"ConfidenceInManagement\"]\n",
    "                analyse_dict[\"hygiene_scores_structural\"] = r[\"hygiene\"][\"Scores\"][\"Structural\"]\n",
    "                analyse_dict[\"hygiene_scores_hygiene\"] = r[\"hygiene\"][\"Scores\"][\"Hygiene\"]\n",
    "        analyse_dict[\"authority_name\"] = r[\"hygiene\"][\"LocalAuthorityName\"]\n",
    "        if \"combined_rating\" in r:\n",
    "            analyse_dict[\"combined_rating\"] = r[\"combined_rating\"]\n",
    "        all_records.append(analyse_dict)\n",
    "        i += 1\n",
    "        if i%50000 == 0:\n",
    "            print(i)"
   ]
  },
  {
   "cell_type": "code",
   "execution_count": null,
   "metadata": {
    "collapsed": true
   },
   "outputs": [],
   "source": []
  },
  {
   "cell_type": "code",
   "execution_count": 31,
   "metadata": {
    "collapsed": false
   },
   "outputs": [
    {
     "data": {
      "text/plain": [
       "{'FHRSID': '220154',\n",
       " 'authority_name': 'Southampton',\n",
       " 'google_rating': 3.5,\n",
       " 'hygiene_rating': 4,\n",
       " 'hygiene_scores_management': 10,\n",
       " 'name': 'Cafe Parfait Ltd',\n",
       " 'postcode': 'SO14 7DW',\n",
       " 'types': ['night_club', 'point_of_interest', 'establishment'],\n",
       " 'yelp_pricing': 3.0,\n",
       " 'yelp_rating': 3.0}"
      ]
     },
     "execution_count": 31,
     "metadata": {},
     "output_type": "execute_result"
    }
   ],
   "source": [
    "all_records[1]"
   ]
  },
  {
   "cell_type": "code",
   "execution_count": 24,
   "metadata": {
    "collapsed": true
   },
   "outputs": [],
   "source": [
    " \n"
   ]
  },
  {
   "cell_type": "code",
   "execution_count": 8,
   "metadata": {
    "collapsed": false
   },
   "outputs": [],
   "source": [
    "df = pd.DataFrame(all_records)\n"
   ]
  },
  {
   "cell_type": "code",
   "execution_count": null,
   "metadata": {
    "collapsed": true
   },
   "outputs": [],
   "source": []
  },
  {
   "cell_type": "code",
   "execution_count": null,
   "metadata": {
    "collapsed": true
   },
   "outputs": [],
   "source": []
  },
  {
   "cell_type": "code",
   "execution_count": null,
   "metadata": {
    "collapsed": true
   },
   "outputs": [],
   "source": []
  }
 ],
 "metadata": {
  "kernelspec": {
   "display_name": "Python 3",
   "language": "python",
   "name": "python3"
  },
  "language_info": {
   "codemirror_mode": {
    "name": "ipython",
    "version": 3
   },
   "file_extension": ".py",
   "mimetype": "text/x-python",
   "name": "python",
   "nbconvert_exporter": "python",
   "pygments_lexer": "ipython3",
   "version": "3.5.2"
  }
 },
 "nbformat": 4,
 "nbformat_minor": 1
}
